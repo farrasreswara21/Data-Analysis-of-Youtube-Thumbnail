{
 "cells": [
  {
   "cell_type": "code",
   "execution_count": 3,
   "metadata": {},
   "outputs": [],
   "source": [
    "import pandas as pd\n",
    "import matplotlib.pyplot as plt\n",
    "\n",
    "import selenium\n",
    "import time\n",
    "from selenium.webdriver.chrome.service import Service\n",
    "from selenium.webdriver.common.by import By\n",
    "from selenium.webdriver.common.keys import Keys\n",
    "from selenium.common.exceptions import NoSuchElementException\n",
    "from selenium.common.exceptions import StaleElementReferenceException \n",
    "from selenium import webdriver\n",
    "\n",
    "import datetime\n"
   ]
  },
  {
   "cell_type": "markdown",
   "metadata": {},
   "source": [
    "# Scraping with Selenium"
   ]
  },
  {
   "cell_type": "markdown",
   "metadata": {},
   "source": [
    "## Initiate"
   ]
  },
  {
   "cell_type": "code",
   "execution_count": 5,
   "metadata": {},
   "outputs": [],
   "source": [
    "s=Service(\"C:\\SAINS DATA\\chromedriver.exe\")\n",
    "options = webdriver.ChromeOptions()\n",
    "options.add_experimental_option(\"detach\", True)\n",
    "options.add_argument('disable_infobars')\n",
    "# options.headless = True\n",
    "\n",
    "driver = webdriver.Chrome(service=s, options=options)\n",
    "url=\"https://www.youtube.com/results?search_query=python+101\"\n",
    "driver.get(url)\n",
    "driver.maximize_window()"
   ]
  },
  {
   "cell_type": "markdown",
   "metadata": {},
   "source": [
    "## Scroll"
   ]
  },
  {
   "cell_type": "code",
   "execution_count": 11,
   "metadata": {},
   "outputs": [],
   "source": [
    "SCROLL_PAUSE_TIME = 1.5\n",
    "\n",
    "# Get scroll height\n",
    "last_height = driver.execute_script(\"return document.documentElement.scrollHeight\")\n",
    "\n",
    "while True:\n",
    "    # Scroll down to bottom\n",
    "    driver.execute_script(\"window.scrollTo(0, document.documentElement.scrollHeight);\")\n",
    "\n",
    "    # Wait to load page\n",
    "    time.sleep(SCROLL_PAUSE_TIME)\n",
    "\n",
    "    # Calculate new scroll height and compare with last scroll height\n",
    "    new_height = driver.execute_script(\"return document.documentElement.scrollHeight\")\n",
    "    if new_height == last_height:\n",
    "        break\n",
    "    last_height = new_height\n",
    "\n",
    "# driver.find_element(By.TAG_NAME, 'body').send_keys(Keys.CONTROL + Keys.HOME)\n",
    "# channel_vid = driver.find_elements(By.CSS_SELECTOR, 'a[id = \"video-title\"]')"
   ]
  },
  {
   "cell_type": "markdown",
   "metadata": {},
   "source": [
    "## Get Video Links"
   ]
  },
  {
   "cell_type": "code",
   "execution_count": 6,
   "metadata": {},
   "outputs": [],
   "source": [
    "parents = driver.find_elements(By.CSS_SELECTOR, 'ytd-video-renderer[class = \"style-scope ytd-item-section-renderer\"]')\n",
    "yt_link = []\n",
    "yt_views = []\n",
    "\n",
    "for parent in parents:\n",
    "    yt_link_elem = parent.find_element(By.CSS_SELECTOR, 'a[id = \"thumbnail\"]')\n",
    "    href = yt_link_elem.get_attribute('href')\n",
    "    if 'shorts' not in href:\n",
    "        yt_link.append(href)\n",
    "    \n",
    "        yt_views_elem = parent.find_element(By.CSS_SELECTOR, 'span[class = \"inline-metadata-item style-scope ytd-video-meta-block\"]')\n",
    "        view_text = yt_views_elem.text\n",
    "        yt_views.append(view_text)\n",
    "        \n",
    "    else : \n",
    "        print('membuang shorts')"
   ]
  },
  {
   "cell_type": "markdown",
   "metadata": {},
   "source": [
    "## Add to Dataframe"
   ]
  },
  {
   "cell_type": "code",
   "execution_count": 7,
   "metadata": {},
   "outputs": [
    {
     "data": {
      "text/html": [
       "<div>\n",
       "<style scoped>\n",
       "    .dataframe tbody tr th:only-of-type {\n",
       "        vertical-align: middle;\n",
       "    }\n",
       "\n",
       "    .dataframe tbody tr th {\n",
       "        vertical-align: top;\n",
       "    }\n",
       "\n",
       "    .dataframe thead th {\n",
       "        text-align: right;\n",
       "    }\n",
       "</style>\n",
       "<table border=\"1\" class=\"dataframe\">\n",
       "  <thead>\n",
       "    <tr style=\"text-align: right;\">\n",
       "      <th></th>\n",
       "      <th>Link</th>\n",
       "      <th>Views</th>\n",
       "    </tr>\n",
       "  </thead>\n",
       "  <tbody>\n",
       "    <tr>\n",
       "      <th>0</th>\n",
       "      <td>https://www.youtube.com/watch?v=kqtD5dpn9C8</td>\n",
       "      <td>8.4M views</td>\n",
       "    </tr>\n",
       "    <tr>\n",
       "      <th>1</th>\n",
       "      <td>https://www.youtube.com/watch?v=rfscVS0vtbw</td>\n",
       "      <td>37M views</td>\n",
       "    </tr>\n",
       "    <tr>\n",
       "      <th>2</th>\n",
       "      <td>https://www.youtube.com/watch?v=_uQrJ0TkZlc</td>\n",
       "      <td>30M views</td>\n",
       "    </tr>\n",
       "    <tr>\n",
       "      <th>3</th>\n",
       "      <td>https://www.youtube.com/watch?v=uns8vUQNxpc</td>\n",
       "      <td>828K views</td>\n",
       "    </tr>\n",
       "    <tr>\n",
       "      <th>4</th>\n",
       "      <td>https://www.youtube.com/watch?v=4uBbCUjJ_G8</td>\n",
       "      <td>4.8K views</td>\n",
       "    </tr>\n",
       "    <tr>\n",
       "      <th>5</th>\n",
       "      <td>https://www.youtube.com/watch?v=jH85McHenvw</td>\n",
       "      <td>195K views</td>\n",
       "    </tr>\n",
       "    <tr>\n",
       "      <th>6</th>\n",
       "      <td>https://www.youtube.com/watch?v=t8pPdKYpowI</td>\n",
       "      <td>3.3M views</td>\n",
       "    </tr>\n",
       "    <tr>\n",
       "      <th>7</th>\n",
       "      <td>https://www.youtube.com/watch?v=Z1Yd7upQsXY</td>\n",
       "      <td>8.2M views</td>\n",
       "    </tr>\n",
       "    <tr>\n",
       "      <th>8</th>\n",
       "      <td>https://www.youtube.com/watch?v=b093aqAZiPU</td>\n",
       "      <td>1M views</td>\n",
       "    </tr>\n",
       "    <tr>\n",
       "      <th>9</th>\n",
       "      <td>https://www.youtube.com/watch?v=InkFViHqCDw</td>\n",
       "      <td>150K views</td>\n",
       "    </tr>\n",
       "    <tr>\n",
       "      <th>10</th>\n",
       "      <td>https://www.youtube.com/watch?v=I2wURDqiXdM</td>\n",
       "      <td>801K views</td>\n",
       "    </tr>\n",
       "    <tr>\n",
       "      <th>11</th>\n",
       "      <td>https://www.youtube.com/watch?v=5oaKN0i-v48</td>\n",
       "      <td>8.7K views</td>\n",
       "    </tr>\n",
       "    <tr>\n",
       "      <th>12</th>\n",
       "      <td>https://www.youtube.com/watch?v=4jduuQh-Uho</td>\n",
       "      <td>4.4K views</td>\n",
       "    </tr>\n",
       "    <tr>\n",
       "      <th>13</th>\n",
       "      <td>https://www.youtube.com/watch?v=iA8lLwmtKQM</td>\n",
       "      <td>1.1M views</td>\n",
       "    </tr>\n",
       "    <tr>\n",
       "      <th>14</th>\n",
       "      <td>https://www.youtube.com/watch?v=BVNjuUx6McU</td>\n",
       "      <td>5K views</td>\n",
       "    </tr>\n",
       "    <tr>\n",
       "      <th>15</th>\n",
       "      <td>https://www.youtube.com/watch?v=Y8Tko2YC5hA</td>\n",
       "      <td>1.5M views</td>\n",
       "    </tr>\n",
       "    <tr>\n",
       "      <th>16</th>\n",
       "      <td>https://www.youtube.com/watch?v=HE4M_0ZskqA</td>\n",
       "      <td>3K views</td>\n",
       "    </tr>\n",
       "    <tr>\n",
       "      <th>17</th>\n",
       "      <td>https://www.youtube.com/watch?v=x7X9w_GIm1s</td>\n",
       "      <td>1.5M views</td>\n",
       "    </tr>\n",
       "    <tr>\n",
       "      <th>18</th>\n",
       "      <td>https://www.youtube.com/watch?v=KgEsvZDK4F4</td>\n",
       "      <td>64 views</td>\n",
       "    </tr>\n",
       "    <tr>\n",
       "      <th>19</th>\n",
       "      <td>https://www.youtube.com/watch?v=wtGkI-6ZuZ4</td>\n",
       "      <td>879 views</td>\n",
       "    </tr>\n",
       "  </tbody>\n",
       "</table>\n",
       "</div>"
      ],
      "text/plain": [
       "                                           Link       Views\n",
       "0   https://www.youtube.com/watch?v=kqtD5dpn9C8  8.4M views\n",
       "1   https://www.youtube.com/watch?v=rfscVS0vtbw   37M views\n",
       "2   https://www.youtube.com/watch?v=_uQrJ0TkZlc   30M views\n",
       "3   https://www.youtube.com/watch?v=uns8vUQNxpc  828K views\n",
       "4   https://www.youtube.com/watch?v=4uBbCUjJ_G8  4.8K views\n",
       "5   https://www.youtube.com/watch?v=jH85McHenvw  195K views\n",
       "6   https://www.youtube.com/watch?v=t8pPdKYpowI  3.3M views\n",
       "7   https://www.youtube.com/watch?v=Z1Yd7upQsXY  8.2M views\n",
       "8   https://www.youtube.com/watch?v=b093aqAZiPU    1M views\n",
       "9   https://www.youtube.com/watch?v=InkFViHqCDw  150K views\n",
       "10  https://www.youtube.com/watch?v=I2wURDqiXdM  801K views\n",
       "11  https://www.youtube.com/watch?v=5oaKN0i-v48  8.7K views\n",
       "12  https://www.youtube.com/watch?v=4jduuQh-Uho  4.4K views\n",
       "13  https://www.youtube.com/watch?v=iA8lLwmtKQM  1.1M views\n",
       "14  https://www.youtube.com/watch?v=BVNjuUx6McU    5K views\n",
       "15  https://www.youtube.com/watch?v=Y8Tko2YC5hA  1.5M views\n",
       "16  https://www.youtube.com/watch?v=HE4M_0ZskqA    3K views\n",
       "17  https://www.youtube.com/watch?v=x7X9w_GIm1s  1.5M views\n",
       "18  https://www.youtube.com/watch?v=KgEsvZDK4F4    64 views\n",
       "19  https://www.youtube.com/watch?v=wtGkI-6ZuZ4   879 views"
      ]
     },
     "execution_count": 7,
     "metadata": {},
     "output_type": "execute_result"
    }
   ],
   "source": [
    "df = pd.DataFrame({'Link': yt_link,\n",
    "                'Views': yt_views\n",
    "                  })\n",
    "df.head(20)"
   ]
  },
  {
   "cell_type": "code",
   "execution_count": 8,
   "metadata": {},
   "outputs": [
    {
     "name": "stdout",
     "output_type": "stream",
     "text": [
      "55\n",
      "55\n"
     ]
    }
   ],
   "source": [
    "print(len(yt_link))\n",
    "print(len(yt_views))"
   ]
  },
  {
   "cell_type": "markdown",
   "metadata": {},
   "source": [
    "## Save as CSV (1)"
   ]
  },
  {
   "cell_type": "code",
   "execution_count": 16,
   "metadata": {},
   "outputs": [],
   "source": [
    "df.to_csv('youtube_link.csv', index = False)"
   ]
  },
  {
   "cell_type": "code",
   "execution_count": 17,
   "metadata": {},
   "outputs": [
    {
     "data": {
      "text/html": [
       "<div>\n",
       "<style scoped>\n",
       "    .dataframe tbody tr th:only-of-type {\n",
       "        vertical-align: middle;\n",
       "    }\n",
       "\n",
       "    .dataframe tbody tr th {\n",
       "        vertical-align: top;\n",
       "    }\n",
       "\n",
       "    .dataframe thead th {\n",
       "        text-align: right;\n",
       "    }\n",
       "</style>\n",
       "<table border=\"1\" class=\"dataframe\">\n",
       "  <thead>\n",
       "    <tr style=\"text-align: right;\">\n",
       "      <th></th>\n",
       "      <th>Link</th>\n",
       "      <th>Views</th>\n",
       "    </tr>\n",
       "  </thead>\n",
       "  <tbody>\n",
       "    <tr>\n",
       "      <th>0</th>\n",
       "      <td>https://www.youtube.com/watch?v=kqtD5dpn9C8</td>\n",
       "      <td>8.3M views</td>\n",
       "    </tr>\n",
       "    <tr>\n",
       "      <th>1</th>\n",
       "      <td>https://www.youtube.com/watch?v=rfscVS0vtbw</td>\n",
       "      <td>37M views</td>\n",
       "    </tr>\n",
       "    <tr>\n",
       "      <th>2</th>\n",
       "      <td>https://www.youtube.com/watch?v=_uQrJ0TkZlc</td>\n",
       "      <td>30M views</td>\n",
       "    </tr>\n",
       "    <tr>\n",
       "      <th>3</th>\n",
       "      <td>https://www.youtube.com/watch?v=iA8lLwmtKQM</td>\n",
       "      <td>1.1M views</td>\n",
       "    </tr>\n",
       "    <tr>\n",
       "      <th>4</th>\n",
       "      <td>https://www.youtube.com/watch?v=eWRfhZUzrAc</td>\n",
       "      <td>442K views</td>\n",
       "    </tr>\n",
       "  </tbody>\n",
       "</table>\n",
       "</div>"
      ],
      "text/plain": [
       "                                          Link       Views\n",
       "0  https://www.youtube.com/watch?v=kqtD5dpn9C8  8.3M views\n",
       "1  https://www.youtube.com/watch?v=rfscVS0vtbw   37M views\n",
       "2  https://www.youtube.com/watch?v=_uQrJ0TkZlc   30M views\n",
       "3  https://www.youtube.com/watch?v=iA8lLwmtKQM  1.1M views\n",
       "4  https://www.youtube.com/watch?v=eWRfhZUzrAc  442K views"
      ]
     },
     "execution_count": 17,
     "metadata": {},
     "output_type": "execute_result"
    }
   ],
   "source": [
    "df2 = pd.read_csv('youtube_link.csv')\n",
    "df2.head()"
   ]
  },
  {
   "cell_type": "markdown",
   "metadata": {},
   "source": [
    "## Get Date and Detail Views"
   ]
  },
  {
   "cell_type": "code",
   "execution_count": 35,
   "metadata": {},
   "outputs": [
    {
     "name": "stdout",
     "output_type": "stream",
     "text": [
      "10 data telah terscrapping dari total 651 data\n",
      "20 data telah terscrapping dari total 651 data\n",
      "30 data telah terscrapping dari total 651 data\n",
      "40 data telah terscrapping dari total 651 data\n",
      "50 data telah terscrapping dari total 651 data\n",
      "60 data telah terscrapping dari total 651 data\n",
      "70 data telah terscrapping dari total 651 data\n",
      "80 data telah terscrapping dari total 651 data\n",
      "90 data telah terscrapping dari total 651 data\n",
      "100 data telah terscrapping dari total 651 data\n",
      "110 data telah terscrapping dari total 651 data\n",
      "120 data telah terscrapping dari total 651 data\n",
      "130 data telah terscrapping dari total 651 data\n",
      "140 data telah terscrapping dari total 651 data\n",
      "150 data telah terscrapping dari total 651 data\n",
      "160 data telah terscrapping dari total 651 data\n",
      "170 data telah terscrapping dari total 651 data\n",
      "180 data telah terscrapping dari total 651 data\n",
      "190 data telah terscrapping dari total 651 data\n",
      "200 data telah terscrapping dari total 651 data\n",
      "210 data telah terscrapping dari total 651 data\n",
      "220 data telah terscrapping dari total 651 data\n",
      "230 data telah terscrapping dari total 651 data\n",
      "240 data telah terscrapping dari total 651 data\n",
      "250 data telah terscrapping dari total 651 data\n",
      "260 data telah terscrapping dari total 651 data\n",
      "270 data telah terscrapping dari total 651 data\n",
      "280 data telah terscrapping dari total 651 data\n",
      "290 data telah terscrapping dari total 651 data\n",
      "300 data telah terscrapping dari total 651 data\n",
      "310 data telah terscrapping dari total 651 data\n",
      "320 data telah terscrapping dari total 651 data\n",
      "330 data telah terscrapping dari total 651 data\n",
      "340 data telah terscrapping dari total 651 data\n",
      "350 data telah terscrapping dari total 651 data\n",
      "360 data telah terscrapping dari total 651 data\n",
      "370 data telah terscrapping dari total 651 data\n",
      "380 data telah terscrapping dari total 651 data\n",
      "390 data telah terscrapping dari total 651 data\n",
      "400 data telah terscrapping dari total 651 data\n",
      "410 data telah terscrapping dari total 651 data\n",
      "420 data telah terscrapping dari total 651 data\n",
      "430 data telah terscrapping dari total 651 data\n",
      "440 data telah terscrapping dari total 651 data\n",
      "450 data telah terscrapping dari total 651 data\n",
      "460 data telah terscrapping dari total 651 data\n",
      "470 data telah terscrapping dari total 651 data\n",
      "480 data telah terscrapping dari total 651 data\n",
      "490 data telah terscrapping dari total 651 data\n",
      "500 data telah terscrapping dari total 651 data\n",
      "510 data telah terscrapping dari total 651 data\n",
      "520 data telah terscrapping dari total 651 data\n",
      "530 data telah terscrapping dari total 651 data\n",
      "540 data telah terscrapping dari total 651 data\n",
      "550 data telah terscrapping dari total 651 data\n",
      "560 data telah terscrapping dari total 651 data\n",
      "570 data telah terscrapping dari total 651 data\n",
      "580 data telah terscrapping dari total 651 data\n",
      "590 data telah terscrapping dari total 651 data\n",
      "600 data telah terscrapping dari total 651 data\n",
      "610 data telah terscrapping dari total 651 data\n",
      "620 data telah terscrapping dari total 651 data\n",
      "630 data telah terscrapping dari total 651 data\n",
      "640 data telah terscrapping dari total 651 data\n",
      "650 data telah terscrapping dari total 651 data\n"
     ]
    }
   ],
   "source": [
    "detail_views = []\n",
    "uploaded = []\n",
    "for i in yt_link:\n",
    "    driver.get(i)\n",
    "    time.sleep(1.5)\n",
    "    \n",
    "    expand = driver.find_element(By.ID, 'expand')\n",
    "    expand.click()\n",
    "    time.sleep(0.1)\n",
    "    \n",
    "    tgl = driver.find_element(By.XPATH, '//*[@id=\"info\"]/span[3]')\n",
    "    uploaded.append(tgl.text)\n",
    "    \n",
    "    penonton = driver.find_element(By.XPATH, '//*[@id=\"info\"]/span[1]')\n",
    "    detail_views.append(penonton.text)\n",
    "    \n",
    "    if len(detail_views)%10 == 0 and len(uploaded)%10 == 0:\n",
    "        print(len(detail_views), 'data telah terscrapping dari total', len(df), 'data')\n",
    "     \n",
    "    "
   ]
  },
  {
   "cell_type": "markdown",
   "metadata": {},
   "source": [
    "## Add to Dataframe"
   ]
  },
  {
   "cell_type": "code",
   "execution_count": 38,
   "metadata": {},
   "outputs": [
    {
     "data": {
      "text/html": [
       "<div>\n",
       "<style scoped>\n",
       "    .dataframe tbody tr th:only-of-type {\n",
       "        vertical-align: middle;\n",
       "    }\n",
       "\n",
       "    .dataframe tbody tr th {\n",
       "        vertical-align: top;\n",
       "    }\n",
       "\n",
       "    .dataframe thead th {\n",
       "        text-align: right;\n",
       "    }\n",
       "</style>\n",
       "<table border=\"1\" class=\"dataframe\">\n",
       "  <thead>\n",
       "    <tr style=\"text-align: right;\">\n",
       "      <th></th>\n",
       "      <th>Link</th>\n",
       "      <th>Views</th>\n",
       "      <th>Upload Date</th>\n",
       "      <th>Detail Views</th>\n",
       "    </tr>\n",
       "  </thead>\n",
       "  <tbody>\n",
       "    <tr>\n",
       "      <th>0</th>\n",
       "      <td>https://www.youtube.com/watch?v=kqtD5dpn9C8</td>\n",
       "      <td>8.3M views</td>\n",
       "      <td>Sep 16, 2020</td>\n",
       "      <td>8,340,944 views</td>\n",
       "    </tr>\n",
       "    <tr>\n",
       "      <th>1</th>\n",
       "      <td>https://www.youtube.com/watch?v=rfscVS0vtbw</td>\n",
       "      <td>37M views</td>\n",
       "      <td>Jul 12, 2018</td>\n",
       "      <td>37,537,262 views</td>\n",
       "    </tr>\n",
       "    <tr>\n",
       "      <th>2</th>\n",
       "      <td>https://www.youtube.com/watch?v=_uQrJ0TkZlc</td>\n",
       "      <td>30M views</td>\n",
       "      <td>Feb 18, 2019</td>\n",
       "      <td>30,500,494 views</td>\n",
       "    </tr>\n",
       "    <tr>\n",
       "      <th>3</th>\n",
       "      <td>https://www.youtube.com/watch?v=iA8lLwmtKQM</td>\n",
       "      <td>1.1M views</td>\n",
       "      <td>Apr 17, 2020</td>\n",
       "      <td>1,158,871 views</td>\n",
       "    </tr>\n",
       "    <tr>\n",
       "      <th>4</th>\n",
       "      <td>https://www.youtube.com/watch?v=eWRfhZUzrAc</td>\n",
       "      <td>442K views</td>\n",
       "      <td>Aug 9, 2022</td>\n",
       "      <td>442,323 views</td>\n",
       "    </tr>\n",
       "  </tbody>\n",
       "</table>\n",
       "</div>"
      ],
      "text/plain": [
       "                                          Link       Views   Upload Date  \\\n",
       "0  https://www.youtube.com/watch?v=kqtD5dpn9C8  8.3M views  Sep 16, 2020   \n",
       "1  https://www.youtube.com/watch?v=rfscVS0vtbw   37M views  Jul 12, 2018   \n",
       "2  https://www.youtube.com/watch?v=_uQrJ0TkZlc   30M views  Feb 18, 2019   \n",
       "3  https://www.youtube.com/watch?v=iA8lLwmtKQM  1.1M views  Apr 17, 2020   \n",
       "4  https://www.youtube.com/watch?v=eWRfhZUzrAc  442K views   Aug 9, 2022   \n",
       "\n",
       "       Detail Views  \n",
       "0   8,340,944 views  \n",
       "1  37,537,262 views  \n",
       "2  30,500,494 views  \n",
       "3   1,158,871 views  \n",
       "4     442,323 views  "
      ]
     },
     "execution_count": 38,
     "metadata": {},
     "output_type": "execute_result"
    }
   ],
   "source": [
    "df2['Upload Date'] = uploaded\n",
    "df2['Detail Views'] = detail_views\n",
    "df2.head()"
   ]
  },
  {
   "cell_type": "markdown",
   "metadata": {},
   "source": [
    "## Save as CSV (2)"
   ]
  },
  {
   "cell_type": "code",
   "execution_count": 39,
   "metadata": {},
   "outputs": [
    {
     "name": "stdout",
     "output_type": "stream",
     "text": [
      "saved!\n"
     ]
    }
   ],
   "source": [
    "df2.to_csv('youtube_link_detail.csv', index = False)\n",
    "print('saved!')"
   ]
  },
  {
   "cell_type": "markdown",
   "metadata": {},
   "source": [
    "## Get Thumbnail"
   ]
  },
  {
   "cell_type": "code",
   "execution_count": 9,
   "metadata": {},
   "outputs": [
    {
     "ename": "OSError",
     "evalue": "[WinError 123] The filename, directory name, or volume label syntax is incorrect: 'C:\\\\TSD\\\\youtube_thumbnail\\test'",
     "output_type": "error",
     "traceback": [
      "\u001b[1;31m---------------------------------------------------------------------------\u001b[0m",
      "\u001b[1;31mFileNotFoundError\u001b[0m                         Traceback (most recent call last)",
      "File \u001b[1;32mc:\\Users\\farras\\anaconda3\\envs\\scrap\\lib\\pathlib.py:1288\u001b[0m, in \u001b[0;36mPath.mkdir\u001b[1;34m(self, mode, parents, exist_ok)\u001b[0m\n\u001b[0;32m   1287\u001b[0m \u001b[39mtry\u001b[39;00m:\n\u001b[1;32m-> 1288\u001b[0m     \u001b[39mself\u001b[39;49m\u001b[39m.\u001b[39;49m_accessor\u001b[39m.\u001b[39;49mmkdir(\u001b[39mself\u001b[39;49m, mode)\n\u001b[0;32m   1289\u001b[0m \u001b[39mexcept\u001b[39;00m \u001b[39mFileNotFoundError\u001b[39;00m:\n",
      "\u001b[1;31mFileNotFoundError\u001b[0m: [WinError 3] The system cannot find the path specified: 'C:\\\\TSD\\\\youtube_thumbnail\\test'",
      "\nDuring handling of the above exception, another exception occurred:\n",
      "\u001b[1;31mOSError\u001b[0m                                   Traceback (most recent call last)",
      "\u001b[1;32mc:\\SAINS DATA\\SEMESTER 5\\Data Mining 2\\UAS\\Thumbnail Classification.ipynb Cell 22\u001b[0m in \u001b[0;36m<cell line: 3>\u001b[1;34m()\u001b[0m\n\u001b[0;32m      <a href='vscode-notebook-cell:/c%3A/SAINS%20DATA/SEMESTER%205/Data%20Mining%202/UAS/Thumbnail%20Classification.ipynb#X30sZmlsZQ%3D%3D?line=4'>5</a>\u001b[0m     t \u001b[39m=\u001b[39m Thumbnail(i)\n\u001b[0;32m      <a href='vscode-notebook-cell:/c%3A/SAINS%20DATA/SEMESTER%205/Data%20Mining%202/UAS/Thumbnail%20Classification.ipynb#X30sZmlsZQ%3D%3D?line=5'>6</a>\u001b[0m     t\u001b[39m.\u001b[39mfetch()\n\u001b[1;32m----> <a href='vscode-notebook-cell:/c%3A/SAINS%20DATA/SEMESTER%205/Data%20Mining%202/UAS/Thumbnail%20Classification.ipynb#X30sZmlsZQ%3D%3D?line=6'>7</a>\u001b[0m     t\u001b[39m.\u001b[39;49msave(\u001b[39m'\u001b[39;49m\u001b[39mC:\u001b[39;49m\u001b[39m\\\u001b[39;49m\u001b[39mTSD\u001b[39;49m\u001b[39m\\\u001b[39;49m\u001b[39myoutube_thumbnail\u001b[39;49m\u001b[39m\\t\u001b[39;49;00m\u001b[39mest\u001b[39;49m\u001b[39m'\u001b[39;49m)\n\u001b[0;32m      <a href='vscode-notebook-cell:/c%3A/SAINS%20DATA/SEMESTER%205/Data%20Mining%202/UAS/Thumbnail%20Classification.ipynb#X30sZmlsZQ%3D%3D?line=7'>8</a>\u001b[0m \u001b[39mexcept\u001b[39;00m \u001b[39mFileExistsError\u001b[39;00m:\n\u001b[0;32m      <a href='vscode-notebook-cell:/c%3A/SAINS%20DATA/SEMESTER%205/Data%20Mining%202/UAS/Thumbnail%20Classification.ipynb#X30sZmlsZQ%3D%3D?line=8'>9</a>\u001b[0m     \u001b[39mpass\u001b[39;00m\n",
      "File \u001b[1;32mc:\\Users\\farras\\anaconda3\\envs\\scrap\\lib\\site-packages\\pythumb\\core.py:193\u001b[0m, in \u001b[0;36mThumbnail.save\u001b[1;34m(self, dir, filename, overwrite, mkdir)\u001b[0m\n\u001b[0;32m    190\u001b[0m path \u001b[39m=\u001b[39m Path(\u001b[39mdir\u001b[39m)\n\u001b[0;32m    192\u001b[0m \u001b[39mif\u001b[39;00m mkdir:\n\u001b[1;32m--> 193\u001b[0m     path\u001b[39m.\u001b[39;49mmkdir(parents\u001b[39m=\u001b[39;49m\u001b[39mTrue\u001b[39;49;00m, exist_ok\u001b[39m=\u001b[39;49m\u001b[39mTrue\u001b[39;49;00m)\n\u001b[0;32m    195\u001b[0m dest \u001b[39m=\u001b[39m path\u001b[39m.\u001b[39mresolve()\u001b[39m.\u001b[39mjoinpath(file)\n\u001b[0;32m    196\u001b[0m \u001b[39mif\u001b[39;00m dest\u001b[39m.\u001b[39mexists() \u001b[39mand\u001b[39;00m \u001b[39mnot\u001b[39;00m overwrite:\n",
      "File \u001b[1;32mc:\\Users\\farras\\anaconda3\\envs\\scrap\\lib\\pathlib.py:1293\u001b[0m, in \u001b[0;36mPath.mkdir\u001b[1;34m(self, mode, parents, exist_ok)\u001b[0m\n\u001b[0;32m   1291\u001b[0m         \u001b[39mraise\u001b[39;00m\n\u001b[0;32m   1292\u001b[0m     \u001b[39mself\u001b[39m\u001b[39m.\u001b[39mparent\u001b[39m.\u001b[39mmkdir(parents\u001b[39m=\u001b[39m\u001b[39mTrue\u001b[39;00m, exist_ok\u001b[39m=\u001b[39m\u001b[39mTrue\u001b[39;00m)\n\u001b[1;32m-> 1293\u001b[0m     \u001b[39mself\u001b[39;49m\u001b[39m.\u001b[39;49mmkdir(mode, parents\u001b[39m=\u001b[39;49m\u001b[39mFalse\u001b[39;49;00m, exist_ok\u001b[39m=\u001b[39;49mexist_ok)\n\u001b[0;32m   1294\u001b[0m \u001b[39mexcept\u001b[39;00m \u001b[39mOSError\u001b[39;00m:\n\u001b[0;32m   1295\u001b[0m     \u001b[39m# Cannot rely on checking for EEXIST, since the operating system\u001b[39;00m\n\u001b[0;32m   1296\u001b[0m     \u001b[39m# could give priority to other errors like EACCES or EROFS\u001b[39;00m\n\u001b[0;32m   1297\u001b[0m     \u001b[39mif\u001b[39;00m \u001b[39mnot\u001b[39;00m exist_ok \u001b[39mor\u001b[39;00m \u001b[39mnot\u001b[39;00m \u001b[39mself\u001b[39m\u001b[39m.\u001b[39mis_dir():\n",
      "File \u001b[1;32mc:\\Users\\farras\\anaconda3\\envs\\scrap\\lib\\pathlib.py:1288\u001b[0m, in \u001b[0;36mPath.mkdir\u001b[1;34m(self, mode, parents, exist_ok)\u001b[0m\n\u001b[0;32m   1286\u001b[0m     \u001b[39mself\u001b[39m\u001b[39m.\u001b[39m_raise_closed()\n\u001b[0;32m   1287\u001b[0m \u001b[39mtry\u001b[39;00m:\n\u001b[1;32m-> 1288\u001b[0m     \u001b[39mself\u001b[39;49m\u001b[39m.\u001b[39;49m_accessor\u001b[39m.\u001b[39;49mmkdir(\u001b[39mself\u001b[39;49m, mode)\n\u001b[0;32m   1289\u001b[0m \u001b[39mexcept\u001b[39;00m \u001b[39mFileNotFoundError\u001b[39;00m:\n\u001b[0;32m   1290\u001b[0m     \u001b[39mif\u001b[39;00m \u001b[39mnot\u001b[39;00m parents \u001b[39mor\u001b[39;00m \u001b[39mself\u001b[39m\u001b[39m.\u001b[39mparent \u001b[39m==\u001b[39m \u001b[39mself\u001b[39m:\n",
      "\u001b[1;31mOSError\u001b[0m: [WinError 123] The filename, directory name, or volume label syntax is incorrect: 'C:\\\\TSD\\\\youtube_thumbnail\\test'"
     ]
    }
   ],
   "source": [
    "from pythumb import Thumbnail\n",
    "\n",
    "for i in yt_link:\n",
    "    try:\n",
    "        t = Thumbnail(i)\n",
    "        t.fetch()\n",
    "        t.save('C:\\TSD\\youtube_thumbnail')\n",
    "    except FileExistsError:\n",
    "        pass"
   ]
  }
 ],
 "metadata": {
  "kernelspec": {
   "display_name": "Python 3 (ipykernel)",
   "language": "python",
   "name": "python3"
  },
  "language_info": {
   "codemirror_mode": {
    "name": "ipython",
    "version": 3
   },
   "file_extension": ".py",
   "mimetype": "text/x-python",
   "name": "python",
   "nbconvert_exporter": "python",
   "pygments_lexer": "ipython3",
   "version": "3.8.13 (default, Mar 28 2022, 06:59:08) [MSC v.1916 64 bit (AMD64)]"
  },
  "vscode": {
   "interpreter": {
    "hash": "faba58285d1274e92bfe9312e8e316857fb7b69661d7ea0ff2588c6ec1835f06"
   }
  }
 },
 "nbformat": 4,
 "nbformat_minor": 2
}
